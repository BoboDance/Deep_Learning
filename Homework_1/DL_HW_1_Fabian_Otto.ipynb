{
 "cells": [
  {
   "cell_type": "code",
   "execution_count": 1,
   "metadata": {},
   "outputs": [],
   "source": [
    "import numpy as np\n",
    "import pandas as pd # this is just for visualization\n",
    "from tabulate import tabulate # this too"
   ]
  },
  {
   "cell_type": "code",
   "execution_count": 5,
   "metadata": {},
   "outputs": [],
   "source": [
    "def sigmoid(x):\n",
    "    return np.divide(1.0, np.add(1.0, np.exp(-x)))\n",
    "\n",
    "\n",
    "def dsigmoid(x):\n",
    "    return np.dot(sigmoid(x), np.subtract(1.0, sigmoid(x)))"
   ]
  },
  {
   "cell_type": "code",
   "execution_count": 12,
   "metadata": {},
   "outputs": [],
   "source": [
    "class NeuralNet(object):\n",
    "\n",
    "    def __init__(self, input_=3, hidden_1=4, hidden_2=4, output=2):\n",
    "\n",
    "        # size of layers\n",
    "        self.input = input_\n",
    "        self.hidden_1 = hidden_1\n",
    "        self.hidden_2 = hidden_2\n",
    "        self.output = output\n",
    "\n",
    "        # activations\n",
    "        # just take ones as they are overwritten anyway\n",
    "        self.ai = np.ones((self.input,))\n",
    "        self.ah1 = np.ones((self.hidden_1,))\n",
    "        self.ah2 = np.ones((self.hidden_2,))\n",
    "        self.ao = np.ones((self.output,))\n",
    "\n",
    "        # weights\n",
    "        # transpose is necessary, otherwise np.dot() does not work due to wrong shape\n",
    "        self.w1 = np.array([[-.20, .48, -.52],\n",
    "                            [-.56, 1.97, 1.39],\n",
    "                            [.10, .28, .77],\n",
    "                            [1.25, 1.01, -1.30]]).T\n",
    "\n",
    "        self.w2 = np.array([[-1.00, -.19, .83, -.22],\n",
    "                            [-.27, .24, 1.62, -.51],\n",
    "                            [-.29, .06, .15, .26],\n",
    "                            [.0, .67, -.36, -0.42]]).T\n",
    "\n",
    "        self.w3 = np.array([[-.13, .01, -.10, .03],\n",
    "                            [-.24, -.02, -.15, -.10]]).T\n",
    "\n",
    "        # bias\n",
    "        self.b1 = np.array([[.27],\n",
    "                            [.23],\n",
    "                            [1.35],\n",
    "                            [.89]]).T\n",
    "\n",
    "        self.b2 = np.array([[-1.19],\n",
    "                            [-.93],\n",
    "                            [-.43],\n",
    "                            [.28]]).T\n",
    "\n",
    "        self.b3 = np.array([[-.13],\n",
    "                            [.03]]).T\n",
    "\n",
    "    def forward_pass(self, inputs):\n",
    "\n",
    "        # input activations\n",
    "        self.ai = inputs\n",
    "        # print(\"input:\")\n",
    "        # print(self.ai)\n",
    "\n",
    "        # hidden_1 activations\n",
    "        self.ah1 = sigmoid(np.add(np.dot(self.ai, self.w1), self.b1))\n",
    "        # print(\"h^1:\")\n",
    "        # print(self.ah1)\n",
    "\n",
    "        # hidden_2 activations\n",
    "        self.ah2 = sigmoid(np.add(np.dot(self.ah1, self.w2), self.b2))\n",
    "        # print(\"h^2:\")\n",
    "        # print(self.ah2)\n",
    "\n",
    "        # output activations\n",
    "        self.ao = np.add(np.dot(self.ah2, self.w3), self.b3)\n",
    "        # print(\"out:\")\n",
    "        # print(self.ao)\n",
    "        \n",
    "        # return outputs for later display\n",
    "        return np.concatenate((self.ai.flatten(), self.ah1.flatten(), self.ah2.flatten(), self.ao.flatten()))\n"
   ]
  },
  {
   "cell_type": "code",
   "execution_count": 13,
   "metadata": {},
   "outputs": [],
   "source": [
    "def run():\n",
    "    X = np.array([[.13, .68, .80, .57, .97],\n",
    "                  [.63, .89, .50, .35, .71],\n",
    "                  [.50, .23, .24, .79, .50]])\n",
    "\n",
    "    outputs = np.zeros((1, 13))\n",
    "    nn = NeuralNet()\n",
    "    \n",
    "    # iterate over columns \n",
    "    for i in range(X.shape[1]):\n",
    "        x = X[:, i]\n",
    "        outputs = np.vstack([outputs, nn.forward_pass(x)])\n",
    "\n",
    "    df = pd.DataFrame(outputs[1:, :])\n",
    "    df.columns = [\"x1\", \"x2\", \"x3\", \"h11\", \"h12\", \"h13\", \"h14\", \"h21\", \"h22\", \"h23\", \"h24\", \"o1\", \"o2\"]\n",
    "    print(tabulate(df, headers='keys', tablefmt='psql', floatfmt=\".3f\"))  # display floats with 3 decimals, then the table is displayed better."
   ]
  },
  {
   "cell_type": "code",
   "execution_count": 14,
   "metadata": {},
   "outputs": [
    {
     "name": "stdout",
     "output_type": "stream",
     "text": [
      "+----+-------+-------+-------+-------+-------+-------+-------+-------+-------+-------+-------+--------+--------+\n",
      "|    |    x1 |    x2 |    x3 |   h11 |   h12 |   h13 |   h14 |   h21 |   h22 |   h23 |   h24 |     o1 |     o2 |\n",
      "|----+-------+-------+-------+-------+-------+-------+-------+-------+-------+-------+-------+--------+--------|\n",
      "|  0 | 0.130 | 0.630 | 0.500 | 0.571 | 0.890 | 0.873 | 0.739 | 0.203 | 0.542 | 0.445 | 0.563 | -0.179 | -0.153 |\n",
      "|  1 | 0.680 | 0.890 | 0.230 | 0.609 | 0.872 | 0.863 | 0.912 | 0.190 | 0.512 | 0.453 | 0.543 | -0.179 | -0.148 |\n",
      "|  2 | 0.800 | 0.500 | 0.240 | 0.556 | 0.750 | 0.853 | 0.889 | 0.202 | 0.507 | 0.453 | 0.526 | -0.181 | -0.149 |\n",
      "|  3 | 0.570 | 0.350 | 0.790 | 0.478 | 0.845 | 0.892 | 0.717 | 0.223 | 0.556 | 0.451 | 0.556 | -0.182 | -0.158 |\n",
      "|  4 | 0.970 | 0.710 | 0.500 | 0.539 | 0.856 | 0.884 | 0.897 | 0.205 | 0.526 | 0.458 | 0.539 | -0.181 | -0.152 |\n",
      "+----+-------+-------+-------+-------+-------+-------+-------+-------+-------+-------+-------+--------+--------+\n"
     ]
    }
   ],
   "source": [
    "run()"
   ]
  },
  {
   "cell_type": "code",
   "execution_count": null,
   "metadata": {},
   "outputs": [],
   "source": []
  },
  {
   "cell_type": "code",
   "execution_count": null,
   "metadata": {},
   "outputs": [],
   "source": []
  }
 ],
 "metadata": {
  "kernelspec": {
   "display_name": "Python 3",
   "language": "python",
   "name": "python3"
  },
  "language_info": {
   "codemirror_mode": {
    "name": "ipython",
    "version": 3
   },
   "file_extension": ".py",
   "mimetype": "text/x-python",
   "name": "python",
   "nbconvert_exporter": "python",
   "pygments_lexer": "ipython3",
   "version": "3.6.4"
  }
 },
 "nbformat": 4,
 "nbformat_minor": 2
}
